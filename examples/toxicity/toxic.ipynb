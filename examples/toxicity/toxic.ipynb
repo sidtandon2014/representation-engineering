{
 "cells": [
  {
   "cell_type": "code",
   "execution_count": 1,
   "id": "469ca13e-81f8-455c-9756-e842f8cf3daa",
   "metadata": {
    "tags": []
   },
   "outputs": [],
   "source": [
    "%load_ext autoreload\n",
    "%autoreload 2"
   ]
  },
  {
   "cell_type": "code",
   "execution_count": 2,
   "id": "11783466-c8f9-4290-9ae6-7a0fca9a2982",
   "metadata": {
    "tags": []
   },
   "outputs": [
    {
     "name": "stderr",
     "output_type": "stream",
     "text": [
      "/home/jupyter/representation-engineering/.venv/lib/python3.12/site-packages/tqdm/auto.py:21: TqdmWarning: IProgress not found. Please update jupyter and ipywidgets. See https://ipywidgets.readthedocs.io/en/stable/user_install.html\n",
      "  from .autonotebook import tqdm as notebook_tqdm\n"
     ]
    }
   ],
   "source": [
    "from utils import toxicgen_concept_dataset"
   ]
  },
  {
   "cell_type": "code",
   "execution_count": 3,
   "id": "696f7bef-186e-4d66-b2e5-37748bf03637",
   "metadata": {
    "tags": []
   },
   "outputs": [
    {
     "ename": "ValueError",
     "evalue": "need at least one array to concatenate",
     "output_type": "error",
     "traceback": [
      "\u001b[31m---------------------------------------------------------------------------\u001b[39m",
      "\u001b[31mValueError\u001b[39m                                Traceback (most recent call last)",
      "\u001b[36mCell\u001b[39m\u001b[36m \u001b[39m\u001b[32mIn[3]\u001b[39m\u001b[32m, line 4\u001b[39m\n\u001b[32m      1\u001b[39m user_tag =  \u001b[33m\"\u001b[39m\u001b[33m[INST]\u001b[39m\u001b[33m\"\u001b[39m\n\u001b[32m      2\u001b[39m assistant_tag =  \u001b[33m\"\u001b[39m\u001b[33m[/INST]\u001b[39m\u001b[33m\"\u001b[39m\n\u001b[32m----> \u001b[39m\u001b[32m4\u001b[39m dataset = \u001b[43mtoxicgen_concept_dataset\u001b[49m\u001b[43m(\u001b[49m\u001b[43muser_tag\u001b[49m\u001b[43m=\u001b[49m\u001b[43muser_tag\u001b[49m\u001b[43m,\u001b[49m\u001b[43m \u001b[49m\u001b[43massistant_tag\u001b[49m\u001b[43m=\u001b[49m\u001b[43massistant_tag\u001b[49m\u001b[43m)\u001b[49m\n",
      "\u001b[36mFile \u001b[39m\u001b[32m~/representation-engineering/examples/toxicity/utils.py:43\u001b[39m, in \u001b[36mtoxicgen_concept_dataset\u001b[39m\u001b[34m(n_train, user_tag, assistant_tag, seed)\u001b[39m\n\u001b[32m     37\u001b[39m pos_instances = dataset.filter(\u001b[38;5;28;01mlambda\u001b[39;00m x: x[\u001b[33m'\u001b[39m\u001b[33mprompt_label\u001b[39m\u001b[33m'\u001b[39m] == \u001b[32m1\u001b[39m)\n\u001b[32m     38\u001b[39m neg_instances = dataset.filter(\u001b[38;5;28;01mlambda\u001b[39;00m x: x[\u001b[33m'\u001b[39m\u001b[33mprompt_label\u001b[39m\u001b[33m'\u001b[39m] == \u001b[32m0\u001b[39m)\n\u001b[32m     40\u001b[39m \u001b[38;5;28;01mreturn\u001b[39;00m {\n\u001b[32m     41\u001b[39m         \u001b[33m'\u001b[39m\u001b[33mtrain\u001b[39m\u001b[33m'\u001b[39m: get_split(\u001b[38;5;28mrange\u001b[39m(\u001b[32m0\u001b[39m,n_train),pos_instances,neg_instances,template_str,user_tag,assistant_tag, \u001b[33m\"\u001b[39m\u001b[33mtrain\u001b[39m\u001b[33m\"\u001b[39m),\n\u001b[32m     42\u001b[39m         \u001b[33m'\u001b[39m\u001b[33mval\u001b[39m\u001b[33m'\u001b[39m: get_split(\u001b[38;5;28mrange\u001b[39m(n_train, n_train*\u001b[32m2\u001b[39m),pos_instances,neg_instances,template_str,user_tag,assistant_tag,\u001b[33m\"\u001b[39m\u001b[33mval\u001b[39m\u001b[33m\"\u001b[39m),\n\u001b[32m---> \u001b[39m\u001b[32m43\u001b[39m         \u001b[33m'\u001b[39m\u001b[33mtest\u001b[39m\u001b[33m'\u001b[39m: \u001b[43mget_split\u001b[49m\u001b[43m(\u001b[49m\u001b[38;5;28;43mrange\u001b[39;49m\u001b[43m(\u001b[49m\u001b[43mn_train\u001b[49m\u001b[43m*\u001b[49m\u001b[32;43m2\u001b[39;49m\u001b[43m,\u001b[49m\u001b[38;5;28;43mlen\u001b[39;49m\u001b[43m(\u001b[49m\u001b[43mdataset\u001b[49m\u001b[43m)\u001b[49m\u001b[43m)\u001b[49m\u001b[43m,\u001b[49m\u001b[43mpos_instances\u001b[49m\u001b[43m,\u001b[49m\u001b[43mneg_instances\u001b[49m\u001b[43m,\u001b[49m\u001b[43mtemplate_str\u001b[49m\u001b[43m,\u001b[49m\u001b[43muser_tag\u001b[49m\u001b[43m,\u001b[49m\u001b[43massistant_tag\u001b[49m\u001b[43m,\u001b[49m\u001b[33;43m\"\u001b[39;49m\u001b[33;43mtest\u001b[39;49m\u001b[33;43m\"\u001b[39;49m\u001b[43m)\u001b[49m\n\u001b[32m     44\u001b[39m     }\n",
      "\u001b[36mFile \u001b[39m\u001b[32m~/representation-engineering/examples/toxicity/utils.py:25\u001b[39m, in \u001b[36mget_split\u001b[39m\u001b[34m(slice_index, pos_instances, neg_instances, template_str, user_tag, assistant_tag, split_type)\u001b[39m\n\u001b[32m     23\u001b[39m \u001b[38;5;28;01melse\u001b[39;00m:\n\u001b[32m     24\u001b[39m     labels.extend([[\u001b[32m1\u001b[39m,\u001b[32m0\u001b[39m]]* \u001b[38;5;28mlen\u001b[39m(paired_data))\n\u001b[32m---> \u001b[39m\u001b[32m25\u001b[39m     data = [template_str.format(scenario=s, user_tag=user_tag, assistant_tag=assistant_tag) \u001b[38;5;28;01mfor\u001b[39;00m s \u001b[38;5;129;01min\u001b[39;00m \u001b[43mnp\u001b[49m\u001b[43m.\u001b[49m\u001b[43mconcatenate\u001b[49m\u001b[43m(\u001b[49m\u001b[43mpaired_data\u001b[49m\u001b[43m)\u001b[49m]\n\u001b[32m     27\u001b[39m \u001b[38;5;28;01mreturn\u001b[39;00m  {\u001b[33m'\u001b[39m\u001b[33mdata\u001b[39m\u001b[33m'\u001b[39m: data, \u001b[33m'\u001b[39m\u001b[33mlabels\u001b[39m\u001b[33m'\u001b[39m: labels},\n",
      "\u001b[31mValueError\u001b[39m: need at least one array to concatenate"
     ]
    }
   ],
   "source": [
    "user_tag =  \"[INST]\"\n",
    "assistant_tag =  \"[/INST]\"\n",
    "\n",
    "dataset = toxicgen_concept_dataset(user_tag=user_tag, assistant_tag=assistant_tag)"
   ]
  },
  {
   "cell_type": "code",
   "execution_count": 3,
   "id": "2e182ece-9ff4-4ed8-b732-9e14bb53aa8f",
   "metadata": {
    "tags": []
   },
   "outputs": [
    {
     "ename": "NameError",
     "evalue": "name 'AutoModelForCausalLM' is not defined",
     "output_type": "error",
     "traceback": [
      "\u001b[31m---------------------------------------------------------------------------\u001b[39m",
      "\u001b[31mNameError\u001b[39m                                 Traceback (most recent call last)",
      "\u001b[36mCell\u001b[39m\u001b[36m \u001b[39m\u001b[32mIn[3]\u001b[39m\u001b[32m, line 3\u001b[39m\n\u001b[32m      1\u001b[39m model_name_or_path = \u001b[33m\"\u001b[39m\u001b[33mmeta-llama/Llama-2-13b-chat-hf\u001b[39m\u001b[33m\"\u001b[39m\n\u001b[32m----> \u001b[39m\u001b[32m3\u001b[39m model = \u001b[43mAutoModelForCausalLM\u001b[49m.from_pretrained(model_name_or_path, torch_dtype=torch.float16, device_map=\u001b[33m\"\u001b[39m\u001b[33mauto\u001b[39m\u001b[33m\"\u001b[39m, token=\u001b[38;5;28;01mTrue\u001b[39;00m).eval()\n\u001b[32m      4\u001b[39m use_fast_tokenizer = \u001b[33m\"\u001b[39m\u001b[33mLlamaForCausalLM\u001b[39m\u001b[33m\"\u001b[39m \u001b[38;5;129;01mnot\u001b[39;00m \u001b[38;5;129;01min\u001b[39;00m model.config.architectures\n\u001b[32m      5\u001b[39m tokenizer = AutoTokenizer.from_pretrained(model_name_or_path, use_fast=use_fast_tokenizer, padding_side=\u001b[33m\"\u001b[39m\u001b[33mleft\u001b[39m\u001b[33m\"\u001b[39m, legacy=\u001b[38;5;28;01mFalse\u001b[39;00m, token=\u001b[38;5;28;01mTrue\u001b[39;00m)\n",
      "\u001b[31mNameError\u001b[39m: name 'AutoModelForCausalLM' is not defined"
     ]
    }
   ],
   "source": [
    "model_name_or_path = \"meta-llama/Llama-2-13b-chat-hf\"\n",
    "\n",
    "model = AutoModelForCausalLM.from_pretrained(model_name_or_path, torch_dtype=torch.float16, device_map=\"auto\", token=True).eval()\n",
    "use_fast_tokenizer = \"LlamaForCausalLM\" not in model.config.architectures\n",
    "tokenizer = AutoTokenizer.from_pretrained(model_name_or_path, use_fast=use_fast_tokenizer, padding_side=\"left\", legacy=False, token=True)\n",
    "tokenizer.pad_token_id = 0 if tokenizer.pad_token_id is None else tokenizer.pad_token_id\n",
    "tokenizer.bos_token_id = 1"
   ]
  },
  {
   "cell_type": "markdown",
   "id": "b8427bf0-da8e-40d5-a29c-aceab660ddd9",
   "metadata": {},
   "source": [
    "#### Reading"
   ]
  },
  {
   "cell_type": "code",
   "execution_count": 4,
   "id": "7c4da486-d687-4d13-a49d-13bb3f96d581",
   "metadata": {
    "tags": []
   },
   "outputs": [
    {
     "name": "stderr",
     "output_type": "stream",
     "text": [
      "Filter: 100%|██████████| 250951/250951 [00:06<00:00, 37587.11 examples/s]\n",
      "Filter: 100%|██████████| 250951/250951 [00:06<00:00, 37974.59 examples/s]\n"
     ]
    },
    {
     "ename": "AttributeError",
     "evalue": "'DatasetDict' object has no attribute 'select'",
     "output_type": "error",
     "traceback": [
      "\u001b[31m---------------------------------------------------------------------------\u001b[39m",
      "\u001b[31mAttributeError\u001b[39m                            Traceback (most recent call last)",
      "\u001b[36mCell\u001b[39m\u001b[36m \u001b[39m\u001b[32mIn[4]\u001b[39m\u001b[32m, line 4\u001b[39m\n\u001b[32m      1\u001b[39m user_tag =  \u001b[33m\"\u001b[39m\u001b[33m[INST]\u001b[39m\u001b[33m\"\u001b[39m\n\u001b[32m      2\u001b[39m assistant_tag =  \u001b[33m\"\u001b[39m\u001b[33m[/INST]\u001b[39m\u001b[33m\"\u001b[39m\n\u001b[32m----> \u001b[39m\u001b[32m4\u001b[39m dataset = \u001b[43mtoxicgen_concept_dataset\u001b[49m\u001b[43m(\u001b[49m\u001b[43muser_tag\u001b[49m\u001b[43m=\u001b[49m\u001b[43muser_tag\u001b[49m\u001b[43m,\u001b[49m\u001b[43m \u001b[49m\u001b[43massistant_tag\u001b[49m\u001b[43m=\u001b[49m\u001b[43massistant_tag\u001b[49m\u001b[43m)\u001b[49m\n",
      "\u001b[36mFile \u001b[39m\u001b[32m~/representation-engineering/examples/toxicity/utils.py:18\u001b[39m, in \u001b[36mtoxicgen_concept_dataset\u001b[39m\u001b[34m(ntrain, user_tag, assistant_tag, seed)\u001b[39m\n\u001b[32m     15\u001b[39m pos_instances = dataset.filter(\u001b[38;5;28;01mlambda\u001b[39;00m x: x[\u001b[33m'\u001b[39m\u001b[33mprompt_label\u001b[39m\u001b[33m'\u001b[39m] == \u001b[32m1\u001b[39m)\n\u001b[32m     16\u001b[39m neg_instances = dataset.filter(\u001b[38;5;28;01mlambda\u001b[39;00m x: x[\u001b[33m'\u001b[39m\u001b[33mprompt_label\u001b[39m\u001b[33m'\u001b[39m] == \u001b[32m0\u001b[39m)\n\u001b[32m---> \u001b[39m\u001b[32m18\u001b[39m train_pos_instances = \u001b[43mpos_instances\u001b[49m\u001b[43m.\u001b[49m\u001b[43mselect\u001b[49m(\u001b[38;5;28mrange\u001b[39m(n_train))\n\u001b[32m     19\u001b[39m train_neg_instances = neg_instances.select(\u001b[38;5;28mrange\u001b[39m(n_train))\n\u001b[32m     21\u001b[39m test_pos_instances = pos_instances.select(\u001b[38;5;28mrange\u001b[39m(n_train, \u001b[38;5;28mlen\u001b[39m(pos_instances)))\n",
      "\u001b[31mAttributeError\u001b[39m: 'DatasetDict' object has no attribute 'select'"
     ]
    }
   ],
   "source": [
    "user_tag =  \"[INST]\"\n",
    "assistant_tag =  \"[/INST]\"\n",
    "\n",
    "dataset = toxicgen_concept_dataset(user_tag=user_tag, assistant_tag=assistant_tag)"
   ]
  }
 ],
 "metadata": {
  "environment": {
   "kernel": "torch_repe_engg",
   "name": "workbench-notebooks.m129",
   "type": "gcloud",
   "uri": "us-docker.pkg.dev/deeplearning-platform-release/gcr.io/workbench-notebooks:m129"
  },
  "kernelspec": {
   "display_name": "torch_repe_engg (Local)",
   "language": "python",
   "name": "torch_repe_engg"
  },
  "language_info": {
   "codemirror_mode": {
    "name": "ipython",
    "version": 3
   },
   "file_extension": ".py",
   "mimetype": "text/x-python",
   "name": "python",
   "nbconvert_exporter": "python",
   "pygments_lexer": "ipython3",
   "version": "3.12.0"
  }
 },
 "nbformat": 4,
 "nbformat_minor": 5
}
